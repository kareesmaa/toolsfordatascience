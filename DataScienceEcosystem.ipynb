{
 "cells": [
  {
   "cell_type": "markdown",
   "id": "b806eede-4ce2-427b-9f0f-fd5346c9d949",
   "metadata": {},
   "source": [
    "## Data Science Tools and Ecosystem"
   ]
  },
  {
   "cell_type": "markdown",
   "id": "430ca3f2-ea65-451b-8383-b1e6ffa268dd",
   "metadata": {},
   "source": [
    "In this notebook, Data Science Tools and Ecosystem are summarized."
   ]
  },
  {
   "cell_type": "markdown",
   "id": "42c7c0d8-c891-464e-bfdb-ded63c46dede",
   "metadata": {},
   "source": [
    "Some of the popular languages that Data Scientists use are: \n",
    "1. Python,\n",
    "2. R,\n",
    "3. SQL"
   ]
  },
  {
   "cell_type": "markdown",
   "id": "a1bf51c3-d532-4cd9-b7cb-85c5289a6e69",
   "metadata": {},
   "source": [
    "Some of the commonly used libraries for Data Scientist are:\n",
    "1. Matplotlib\n",
    "2. NumPy\n",
    "3. Pandas\n",
    "4.Pytorch"
   ]
  },
  {
   "cell_type": "markdown",
   "id": "3aa50ad3-2f73-48f8-9abf-1455c272f237",
   "metadata": {},
   "source": [
    "|Data Science Tools|\n",
    "|-----------------|\n",
    "|RStudio|\n",
    "|TensorFlow|\n",
    "|Apache Spark|"
   ]
  },
  {
   "cell_type": "markdown",
   "id": "c78689dc-f191-404e-947a-1ec0fc400f26",
   "metadata": {},
   "source": [
    "### Below are a few examples of evaluating arithmetic expressions in Python."
   ]
  },
  {
   "cell_type": "code",
   "execution_count": 2,
   "id": "cded6f40-60a1-4758-99e0-1f6e220f4d6f",
   "metadata": {
    "tags": []
   },
   "outputs": [
    {
     "data": {
      "text/plain": [
       "17"
      ]
     },
     "execution_count": 2,
     "metadata": {},
     "output_type": "execute_result"
    }
   ],
   "source": [
    "# This is an arithmetic expression of multiplying then adding integers\n",
    "(3*4)+5"
   ]
  },
  {
   "cell_type": "code",
   "execution_count": 3,
   "id": "4f7f1862-1497-492e-9c8f-373d996e9cd7",
   "metadata": {
    "tags": []
   },
   "outputs": [
    {
     "data": {
      "text/plain": [
       "3.3333333333333335"
      ]
     },
     "execution_count": 3,
     "metadata": {},
     "output_type": "execute_result"
    }
   ],
   "source": [
    "# The expression converts 200 minutes into hours by dividing by 60\n",
    "200/60"
   ]
  },
  {
   "cell_type": "markdown",
   "id": "c4549bef-26f6-47fd-a049-00a382e6b1ca",
   "metadata": {},
   "source": [
    "***Objectives:*** \n",
    "* List popular languages used by Data Scientists\n",
    "* List commonly used libraries by Data Scientists\n",
    "* List tools used by Data Scientists"
   ]
  },
  {
   "cell_type": "markdown",
   "id": "abe476a1-00a0-4787-b75d-6127f92f87e1",
   "metadata": {},
   "source": [
    "## Author\n",
    "Mohana Venkata Kareesmaa Sathuluri"
   ]
  }
 ],
 "metadata": {
  "kernelspec": {
   "display_name": "Python",
   "language": "python",
   "name": "conda-env-python-py"
  },
  "language_info": {
   "codemirror_mode": {
    "name": "ipython",
    "version": 3
   },
   "file_extension": ".py",
   "mimetype": "text/x-python",
   "name": "python",
   "nbconvert_exporter": "python",
   "pygments_lexer": "ipython3",
   "version": "3.7.12"
  }
 },
 "nbformat": 4,
 "nbformat_minor": 5
}
